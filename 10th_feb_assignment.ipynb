{
 "cells": [
  {
   "cell_type": "markdown",
   "id": "40fc32b3-dbba-434c-a15b-9551a2227024",
   "metadata": {},
   "source": [
    "## Q1"
   ]
  },
  {
   "cell_type": "markdown",
   "id": "13d90758-ff39-4ae6-9c81-c8eaba345881",
   "metadata": {},
   "source": [
    "The module that is used to open a file is open and os."
   ]
  },
  {
   "cell_type": "code",
   "execution_count": 1,
   "id": "71b354ba-f37e-442b-9ef3-2fe8d9212092",
   "metadata": {},
   "outputs": [
    {
     "name": "stdout",
     "output_type": "stream",
     "text": [
      "Hi this is the first line of txt file\n",
      "and this is the second line\n",
      "and this is the third line\n"
     ]
    }
   ],
   "source": [
    "## We can open the file using open by following commands\n",
    "f = open('new.txt','r')\n",
    "print(f.read())\n",
    "f.close()"
   ]
  },
  {
   "cell_type": "code",
   "execution_count": 2,
   "id": "24975500-2a16-4e36-b9f5-1b12f6527202",
   "metadata": {},
   "outputs": [],
   "source": [
    "## we can do the same operation by importing os module\n",
    "import os\n",
    "fd =os.open('./new.txt',flags = os.O_RDWR | os.O_CREAT,mode=0o666)"
   ]
  },
  {
   "cell_type": "code",
   "execution_count": 3,
   "id": "ac9a6d8d-15d2-444e-b05e-1b18b772dfca",
   "metadata": {},
   "outputs": [],
   "source": [
    "c = os.read(fd,os.path.getsize(fd))"
   ]
  },
  {
   "cell_type": "code",
   "execution_count": 4,
   "id": "4fee30cb-ce2d-4d0e-89da-1af38c6aa38d",
   "metadata": {},
   "outputs": [
    {
     "name": "stdout",
     "output_type": "stream",
     "text": [
      "Hi this is the first line of txt file\n",
      "and this is the second line\n",
      "and this is the third line\n"
     ]
    }
   ],
   "source": [
    "print(c.decode())"
   ]
  },
  {
   "cell_type": "code",
   "execution_count": 5,
   "id": "5634cd65-d68c-4d34-a518-dc30064c7c01",
   "metadata": {},
   "outputs": [],
   "source": [
    "os.close(fd)"
   ]
  },
  {
   "cell_type": "markdown",
   "id": "49c2b860-b36b-4d72-926f-a044756b3a06",
   "metadata": {},
   "source": [
    "## Q2"
   ]
  },
  {
   "cell_type": "markdown",
   "id": "08fb9274-3887-4944-8217-fca60c758ef3",
   "metadata": {},
   "source": [
    "close() function is used to close connection with the file opened then only it will reflect the operation happend on file."
   ]
  },
  {
   "cell_type": "code",
   "execution_count": 6,
   "id": "5b91b4a6-2a10-4452-b0d8-b14a5437cb9f",
   "metadata": {},
   "outputs": [
    {
     "data": {
      "text/plain": [
       "'Hi this is the first line of txt file\\nand this is the second line\\nand this is the third line'"
      ]
     },
     "execution_count": 6,
     "metadata": {},
     "output_type": "execute_result"
    }
   ],
   "source": [
    "## we can close the file like in the following code of snippet\n",
    "a = open('new.txt','r')\n",
    "a.read()"
   ]
  },
  {
   "cell_type": "code",
   "execution_count": 7,
   "id": "4a1e6c5b-73cf-453e-828a-259ee29e1042",
   "metadata": {},
   "outputs": [],
   "source": [
    "# now the connection is ended with the file\n",
    "a.close()"
   ]
  },
  {
   "cell_type": "markdown",
   "id": "3efb1693-f192-47b3-8ebd-beefec7ae61a",
   "metadata": {},
   "source": [
    "## Q3"
   ]
  },
  {
   "cell_type": "code",
   "execution_count": 8,
   "id": "1cf209b8-7143-4d3f-9193-901d9727f2fb",
   "metadata": {},
   "outputs": [],
   "source": [
    "import io\n",
    "import logging"
   ]
  },
  {
   "cell_type": "code",
   "execution_count": 9,
   "id": "ed8b44a8-c8aa-49ae-8a96-7ed44b8f6ba3",
   "metadata": {},
   "outputs": [],
   "source": [
    "with open(\"t1.txt\",'wb') as f:\n",
    "    logging.basicConfig(filename='file.log',level=logging.DEBUG,format='%(asctime)s %(name)s %(levelname)s %(message)s')\n",
    "    file = io.BufferedWriter(f)\n",
    "    file.write(b\"I want to become a Data Scientist\")\n",
    "    logging.debug(\"Data writing is done\")\n",
    "    file.flush()\n",
    "    logging.shutdown()"
   ]
  },
  {
   "cell_type": "code",
   "execution_count": 10,
   "id": "95d7ad5a-d124-4cab-8b3b-7e65fd964e9e",
   "metadata": {},
   "outputs": [],
   "source": [
    "with open(\"t1.txt\",'rb') as f:\n",
    "    file = io.BufferedReader(f)\n",
    "    data = file.read()\n",
    "    "
   ]
  },
  {
   "cell_type": "code",
   "execution_count": 11,
   "id": "b3700b78-9d60-43bb-b55f-c9364bf18909",
   "metadata": {},
   "outputs": [
    {
     "data": {
      "text/plain": [
       "b'I want to become a Data Scientist'"
      ]
     },
     "execution_count": 11,
     "metadata": {},
     "output_type": "execute_result"
    }
   ],
   "source": [
    "data"
   ]
  },
  {
   "cell_type": "markdown",
   "id": "78d1a070-f482-476d-91e0-050578d1e9aa",
   "metadata": {},
   "source": [
    "## Q4"
   ]
  },
  {
   "cell_type": "code",
   "execution_count": 17,
   "id": "48bd757f-b227-4bb5-941f-e17e1c52de38",
   "metadata": {},
   "outputs": [
    {
     "data": {
      "text/plain": [
       "'I want to become a Data Scientist\\nI want to become a full stack data scientist.'"
      ]
     },
     "execution_count": 17,
     "metadata": {},
     "output_type": "execute_result"
    }
   ],
   "source": [
    "a = open('t4.txt','r')\n",
    "## when we write read we read the content of file in one go and return the result in string format\n",
    "a.read()"
   ]
  },
  {
   "cell_type": "code",
   "execution_count": 18,
   "id": "a4427aab-14db-4835-99b5-6b4fd3515b70",
   "metadata": {},
   "outputs": [
    {
     "data": {
      "text/plain": [
       "'I want to become a Data Scientist\\n'"
      ]
     },
     "execution_count": 18,
     "metadata": {},
     "output_type": "execute_result"
    }
   ],
   "source": [
    "## readline work like read only but the difference is we read the content line by line and return it instead of reading content\n",
    "## in one go.\n",
    "a.seek(0)\n",
    "a.readline()"
   ]
  },
  {
   "cell_type": "code",
   "execution_count": 19,
   "id": "b4a12dee-18db-4354-9059-ee8b8e6f8d12",
   "metadata": {},
   "outputs": [
    {
     "data": {
      "text/plain": [
       "'I want to become a full stack data scientist.'"
      ]
     },
     "execution_count": 19,
     "metadata": {},
     "output_type": "execute_result"
    }
   ],
   "source": [
    "a.readline()"
   ]
  },
  {
   "cell_type": "code",
   "execution_count": 20,
   "id": "fdea188f-34da-44a0-a578-41e5902d9a79",
   "metadata": {},
   "outputs": [
    {
     "data": {
      "text/plain": [
       "''"
      ]
     },
     "execution_count": 20,
     "metadata": {},
     "output_type": "execute_result"
    }
   ],
   "source": [
    "a.readline()"
   ]
  },
  {
   "cell_type": "code",
   "execution_count": 21,
   "id": "b30f1efa-fe2c-4ae6-b645-822603af4556",
   "metadata": {},
   "outputs": [
    {
     "data": {
      "text/plain": [
       "['I want to become a Data Scientist\\n',\n",
       " 'I want to become a full stack data scientist.']"
      ]
     },
     "execution_count": 21,
     "metadata": {},
     "output_type": "execute_result"
    }
   ],
   "source": [
    "## readlines return us all the lines in list format every line will be appended in list\n",
    "a.seek(0)## we are moving cursor to very first sentence\n",
    "a.readlines()"
   ]
  },
  {
   "cell_type": "code",
   "execution_count": 22,
   "id": "9e9d9f4a-871a-48ee-b7d3-a9da6a60a0dc",
   "metadata": {},
   "outputs": [],
   "source": [
    "a.close()"
   ]
  },
  {
   "cell_type": "markdown",
   "id": "f48e4df6-ede3-437b-9252-ee2077a48430",
   "metadata": {},
   "source": [
    "## Q5"
   ]
  },
  {
   "cell_type": "markdown",
   "id": "ad369b4e-9b19-4ff7-ac5d-2b9974df981b",
   "metadata": {},
   "source": [
    "The main advantage of using open with with is that we doesn't need to close file connection manually it gets done automatically"
   ]
  },
  {
   "cell_type": "code",
   "execution_count": 23,
   "id": "371ee4ca-37eb-45fd-9b20-424ee4c93ab5",
   "metadata": {},
   "outputs": [
    {
     "name": "stdout",
     "output_type": "stream",
     "text": [
      "I want to become a Data Scientist\n"
     ]
    }
   ],
   "source": [
    "with open('t1.txt','r') as f:\n",
    "    print(f.read())"
   ]
  },
  {
   "cell_type": "code",
   "execution_count": 24,
   "id": "8d108714-1b2a-4cab-b1db-b7ffe708a4fe",
   "metadata": {},
   "outputs": [
    {
     "data": {
      "text/plain": [
       "True"
      ]
     },
     "execution_count": 24,
     "metadata": {},
     "output_type": "execute_result"
    }
   ],
   "source": [
    "f.closed"
   ]
  },
  {
   "cell_type": "markdown",
   "id": "1b398e27-99f6-40e3-ab49-be05012d22ac",
   "metadata": {},
   "source": [
    "## Q6"
   ]
  },
  {
   "cell_type": "markdown",
   "id": "8d0d3aa1-ff51-40c6-a903-f28945b8aaf6",
   "metadata": {},
   "source": [
    "The only difference between the write() and writelines() is that write() is used to write a string to an already opened file while writelines() method is used to write a list of strings in an opened file."
   ]
  },
  {
   "cell_type": "code",
   "execution_count": 25,
   "id": "83c42848-8c34-4979-a7d9-25544d989dda",
   "metadata": {},
   "outputs": [],
   "source": [
    "f = open('t2.txt','w')\n",
    "f.write(\"hello world\")\n",
    "f.close()"
   ]
  },
  {
   "cell_type": "code",
   "execution_count": 26,
   "id": "69815e2f-100a-4b4c-afbe-41d97f595710",
   "metadata": {},
   "outputs": [],
   "source": [
    "f = open('t3.txt','w')\n",
    "f.writelines(['hello world\\n','HELLO WORLD'])\n",
    "f.close()"
   ]
  },
  {
   "cell_type": "code",
   "execution_count": 27,
   "id": "1c51b1a8-d95b-464d-96aa-1ffa8524fe39",
   "metadata": {},
   "outputs": [
    {
     "name": "stdout",
     "output_type": "stream",
     "text": [
      "hello world\n",
      "hello world\n",
      "HELLO WORLD\n"
     ]
    }
   ],
   "source": [
    "f1 = open('t2.txt','r')\n",
    "f2 = open('t3.txt','r')\n",
    "print(f1.read())\n",
    "print(f2.read())\n",
    "f1.close()\n",
    "f2.close()"
   ]
  },
  {
   "cell_type": "code",
   "execution_count": null,
   "id": "d6b3d2b3-bfd5-4a53-b13f-81f40fd163c1",
   "metadata": {},
   "outputs": [],
   "source": []
  }
 ],
 "metadata": {
  "kernelspec": {
   "display_name": "Python 3 (ipykernel)",
   "language": "python",
   "name": "python3"
  },
  "language_info": {
   "codemirror_mode": {
    "name": "ipython",
    "version": 3
   },
   "file_extension": ".py",
   "mimetype": "text/x-python",
   "name": "python",
   "nbconvert_exporter": "python",
   "pygments_lexer": "ipython3",
   "version": "3.10.8"
  }
 },
 "nbformat": 4,
 "nbformat_minor": 5
}
